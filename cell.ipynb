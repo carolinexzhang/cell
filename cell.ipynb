{
 "cells": [
  {
   "cell_type": "code",
   "execution_count": 1,
   "id": "925d51f7-cd73-41b7-b48b-353dc25f7ab1",
   "metadata": {},
   "outputs": [
    {
     "name": "stdout",
     "output_type": "stream",
     "text": [
      "Cell Type: Animal Cell\n",
      "Nucleus Present: True\n",
      "Cytoplasm Volume: 300 μm³\n",
      "Membrane Thickness: 7 nm\n",
      "Organelles: mitochondria, ribosomes, endoplasmic reticulum\n",
      "Size: 10 μm\n",
      "Shape: spherical\n",
      "Function: Energy production and metabolism\n",
      "Division Type: mitosis\n",
      "Age: 5 days\n"
     ]
    }
   ],
   "source": [
    "class Cell:\n",
    "    def __init__(self, cell_type, nucleus, cytoplasm, membrane_thickness, organelles, \n",
    "                 size, shape, function, division_type, age):\n",
    "        self.cell_type = cell_type               # Type of cell (e.g., animal, plant)\n",
    "        self.nucleus = nucleus                   # Presence of nucleus (True/False)\n",
    "        self.cytoplasm = cytoplasm               # Volume of cytoplasm in micrometers\n",
    "        self.membrane_thickness = membrane_thickness  # Thickness of the cell membrane in nanometers\n",
    "        self.organelles = organelles             # List of organelles present\n",
    "        self.size = size                         # Size of the cell in micrometers\n",
    "        self.shape = shape                     \n",
    "        self.function = function                 \n",
    "        self.division_type = division_type       \n",
    "        self.age = age                         \n",
    "\n",
    "# Creating an instance of the Cell class\n",
    "example_cell = Cell(\n",
    "    cell_type=\"Animal Cell\",\n",
    "    nucleus=True,\n",
    "    cytoplasm=300,  # Volume in micrometers\n",
    "    membrane_thickness=7,  # Thickness in nanometers\n",
    "    organelles=[\"mitochondria\", \"ribosomes\", \"endoplasmic reticulum\"],\n",
    "    size=10,  # Size in micrometers\n",
    "    shape=\"spherical\",\n",
    "    function=\"Energy production and metabolism\",\n",
    "    division_type=\"mitosis\",\n",
    "    age=5  # Age in days\n",
    ")\n",
    "\n",
    "# Print example cell details\n",
    "print(f\"Cell Type: {example_cell.cell_type}\")\n",
    "print(f\"Nucleus Present: {example_cell.nucleus}\")\n",
    "print(f\"Cytoplasm Volume: {example_cell.cytoplasm} μm³\")\n",
    "print(f\"Membrane Thickness: {example_cell.membrane_thickness} nm\")\n",
    "print(f\"Organelles: {', '.join(example_cell.organelles)}\")\n",
    "print(f\"Size: {example_cell.size} μm\")\n",
    "print(f\"Shape: {example_cell.shape}\")\n",
    "print(f\"Function: {example_cell.function}\")\n",
    "print(f\"Division Type: {example_cell.division_type}\")\n",
    "print(f\"Age: {example_cell.age} days\")"
   ]
  },
  {
   "cell_type": "code",
   "execution_count": null,
   "id": "8b1349fc-8e51-4721-88d9-daf450007103",
   "metadata": {},
   "outputs": [],
   "source": []
  }
 ],
 "metadata": {
  "kernelspec": {
   "display_name": "Python 3 (ipykernel)",
   "language": "python",
   "name": "python3"
  },
  "language_info": {
   "codemirror_mode": {
    "name": "ipython",
    "version": 3
   },
   "file_extension": ".py",
   "mimetype": "text/x-python",
   "name": "python",
   "nbconvert_exporter": "python",
   "pygments_lexer": "ipython3",
   "version": "3.12.4"
  }
 },
 "nbformat": 4,
 "nbformat_minor": 5
}
